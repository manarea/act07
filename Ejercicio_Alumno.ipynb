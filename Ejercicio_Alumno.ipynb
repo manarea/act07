{
  "nbformat": 4,
  "nbformat_minor": 0,
  "metadata": {
    "colab": {
      "provenance": []
    },
    "kernelspec": {
      "name": "python3",
      "display_name": "Python 3"
    },
    "language_info": {
      "name": "python"
    }
  },
  "cells": [
    {
      "cell_type": "markdown",
      "source": [
        "# Implemente estas expresiones en Z3 y ejecute para ver si Z3 lo resuelve\n",
        "\n",
        "## A > B and B > C"
      ],
      "metadata": {
        "id": "6zdMHCpnPovy"
      }
    },
    {
      "cell_type": "code",
      "source": [
        "!pip install z3-solver\n"
      ],
      "metadata": {
        "colab": {
          "base_uri": "https://localhost:8080/"
        },
        "id": "bRH9dDwdQbsV",
        "outputId": "f59ce7c0-d07b-422d-da75-25e7528d406c"
      },
      "execution_count": null,
      "outputs": [
        {
          "output_type": "stream",
          "name": "stdout",
          "text": [
            "Collecting z3-solver\n",
            "  Downloading z3_solver-4.13.3.0-py3-none-manylinux_2_17_x86_64.manylinux2014_x86_64.whl.metadata (602 bytes)\n",
            "Downloading z3_solver-4.13.3.0-py3-none-manylinux_2_17_x86_64.manylinux2014_x86_64.whl (28.1 MB)\n",
            "\u001b[2K   \u001b[90m━━━━━━━━━━━━━━━━━━━━━━━━━━━━━━━━━━━━━━━━\u001b[0m \u001b[32m28.1/28.1 MB\u001b[0m \u001b[31m28.0 MB/s\u001b[0m eta \u001b[36m0:00:00\u001b[0m\n",
            "\u001b[?25hInstalling collected packages: z3-solver\n",
            "Successfully installed z3-solver-4.13.3.0\n"
          ]
        }
      ]
    },
    {
      "cell_type": "code",
      "execution_count": null,
      "metadata": {
        "id": "nSLmpzbjPmWW"
      },
      "outputs": [],
      "source": [
        "import ast\n",
        "from z3 import *\n",
        "\n",
        "class ExprVisitor(ast.NodeVisitor):\n",
        "  pass"
      ]
    },
    {
      "cell_type": "code",
      "source": [
        "def solve(expr_string):\n",
        "  visitor = ExprVisitor()\n",
        "  tree = ast.parse(expr_string)\n",
        "  visitor.visit(tree)\n",
        "  z3_expr = visitor.z3_expr\n",
        "  solver = Solver()\n",
        "  solver.add(z3_expr)\n",
        "  if solver.check() == sat:\n",
        "    model = solver.model()\n",
        "    model_dict = {str(var): model[var].as_long() for var in model}\n",
        "    return model_dict\n",
        "  else:\n",
        "    return None"
      ],
      "metadata": {
        "id": "MhXO4TfBRf9y"
      },
      "execution_count": null,
      "outputs": []
    },
    {
      "cell_type": "code",
      "source": [
        "def evaluate(expresion):\n",
        "  result = solve(expresion)\n",
        "  print(result)\n",
        "  if result != None :\n",
        "    print(eval(expresion, {}, result))\n",
        "  else:\n",
        "    print(False)"
      ],
      "metadata": {
        "id": "Kuu5MlPRUTj-"
      },
      "execution_count": null,
      "outputs": []
    },
    {
      "cell_type": "markdown",
      "source": [
        "# Tests"
      ],
      "metadata": {
        "id": "xGAycg40XF_o"
      }
    },
    {
      "cell_type": "code",
      "source": [
        "evaluate(\"A > 1\")"
      ],
      "metadata": {
        "colab": {
          "base_uri": "https://localhost:8080/"
        },
        "id": "WlGwgalPXHLa",
        "outputId": "5850e3f1-0993-4651-a4d1-eb2d5e22c438"
      },
      "execution_count": null,
      "outputs": [
        {
          "output_type": "stream",
          "name": "stdout",
          "text": [
            "{'A': 2}\n",
            "True\n"
          ]
        }
      ]
    },
    {
      "cell_type": "code",
      "source": [
        "evaluate(\"A > B\")"
      ],
      "metadata": {
        "colab": {
          "base_uri": "https://localhost:8080/"
        },
        "id": "HP0U6mw1XK6Y",
        "outputId": "d4fafc17-8f2a-4e3e-9855-07f2d4c9238d"
      },
      "execution_count": null,
      "outputs": [
        {
          "output_type": "stream",
          "name": "stdout",
          "text": [
            "{'A': 1, 'B': 0}\n",
            "True\n"
          ]
        }
      ]
    },
    {
      "cell_type": "code",
      "source": [
        "evaluate(\"A == B\")"
      ],
      "metadata": {
        "colab": {
          "base_uri": "https://localhost:8080/"
        },
        "id": "YnU_So_qXOaW",
        "outputId": "c87d937c-4fd8-49c7-a890-ffce7c84058c"
      },
      "execution_count": null,
      "outputs": [
        {
          "output_type": "stream",
          "name": "stdout",
          "text": [
            "{'B': 0, 'A': 0}\n",
            "True\n"
          ]
        }
      ]
    },
    {
      "cell_type": "code",
      "source": [
        "evaluate(\"A <= B\")"
      ],
      "metadata": {
        "colab": {
          "base_uri": "https://localhost:8080/"
        },
        "id": "maDaP-cAXTAi",
        "outputId": "541f8bac-628e-4fe3-844b-7536f4405667"
      },
      "execution_count": null,
      "outputs": [
        {
          "output_type": "stream",
          "name": "stdout",
          "text": [
            "{'A': 0, 'B': 0}\n",
            "True\n"
          ]
        }
      ]
    },
    {
      "cell_type": "code",
      "source": [
        "evaluate(\"A > B and B > C\")"
      ],
      "metadata": {
        "colab": {
          "base_uri": "https://localhost:8080/"
        },
        "id": "4giFwMXZXXum",
        "outputId": "1d4f35bc-45f2-45b8-de6d-a751564295e4"
      },
      "execution_count": null,
      "outputs": [
        {
          "output_type": "stream",
          "name": "stdout",
          "text": [
            "{'A': 1, 'C': -1, 'B': 0}\n",
            "True\n"
          ]
        }
      ]
    },
    {
      "cell_type": "code",
      "source": [
        "evaluate(\"A > B or B > C\")"
      ],
      "metadata": {
        "colab": {
          "base_uri": "https://localhost:8080/"
        },
        "id": "6GS0xCmyXb4c",
        "outputId": "18b873e7-ade3-4a14-a201-0aab7b6c6c0f"
      },
      "execution_count": null,
      "outputs": [
        {
          "output_type": "stream",
          "name": "stdout",
          "text": [
            "{'A': 1, 'C': 0, 'B': 0}\n",
            "True\n"
          ]
        }
      ]
    },
    {
      "cell_type": "code",
      "source": [
        "evaluate(\"A > B or B > C\")"
      ],
      "metadata": {
        "colab": {
          "base_uri": "https://localhost:8080/"
        },
        "id": "AJC8T0ovXe5J",
        "outputId": "71180830-feb3-4771-f801-d4899c2886e5"
      },
      "execution_count": null,
      "outputs": [
        {
          "output_type": "stream",
          "name": "stdout",
          "text": [
            "{'A': 1, 'C': 0, 'B': 0}\n",
            "True\n"
          ]
        }
      ]
    },
    {
      "cell_type": "code",
      "source": [
        "evaluate(\"A + B == 5\")"
      ],
      "metadata": {
        "colab": {
          "base_uri": "https://localhost:8080/"
        },
        "id": "M865UujbXmrC",
        "outputId": "09536af8-1372-47d3-ebbe-2be43f6de9a9"
      },
      "execution_count": null,
      "outputs": [
        {
          "output_type": "stream",
          "name": "stdout",
          "text": [
            "{'B': 0, 'A': 5}\n",
            "True\n"
          ]
        }
      ]
    },
    {
      "cell_type": "code",
      "source": [
        "evaluate(\"A + B + C == 0\")"
      ],
      "metadata": {
        "colab": {
          "base_uri": "https://localhost:8080/"
        },
        "id": "NoPVXhPuXtcj",
        "outputId": "4baa4ef3-68d1-461a-8b0d-e2aaf9ff0deb"
      },
      "execution_count": null,
      "outputs": [
        {
          "output_type": "stream",
          "name": "stdout",
          "text": [
            "{'B': 0, 'C': 0, 'A': 0}\n",
            "True\n"
          ]
        }
      ]
    },
    {
      "cell_type": "code",
      "source": [
        "evaluate(\"x + y == 5 and y - x == 1\")"
      ],
      "metadata": {
        "colab": {
          "base_uri": "https://localhost:8080/"
        },
        "id": "v32c81dqXx5t",
        "outputId": "36bca53e-3109-4714-ced6-6f22111f1053"
      },
      "execution_count": null,
      "outputs": [
        {
          "output_type": "stream",
          "name": "stdout",
          "text": [
            "{'y': 3, 'x': 2}\n",
            "True\n"
          ]
        }
      ]
    },
    {
      "cell_type": "code",
      "source": [
        "evaluate(\"A > B and B > A\")"
      ],
      "metadata": {
        "colab": {
          "base_uri": "https://localhost:8080/"
        },
        "id": "zaQA8VpXYJqY",
        "outputId": "b76e9f57-77a7-4f5c-f08e-79943d7f6ae4"
      },
      "execution_count": null,
      "outputs": [
        {
          "output_type": "stream",
          "name": "stdout",
          "text": [
            "None\n",
            "False\n"
          ]
        }
      ]
    }
  ]
}